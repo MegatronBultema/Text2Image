{
 "cells": [
  {
   "cell_type": "code",
   "execution_count": 2,
   "id": "bf7b2eb3",
   "metadata": {
    "pycharm": {
     "name": "#%%\n"
    }
   },
   "outputs": [],
   "source": [
    "import requests\n",
    "from diffusers import StableDiffusionPipeline\n",
    "import torch\n",
    "import time\n",
    "import os\n",
    "from PIL import Image\n"
   ]
  },
  {
   "cell_type": "code",
   "execution_count": 24,
   "id": "b1eb312c",
   "metadata": {
    "pycharm": {
     "name": "#%%\n"
    }
   },
   "outputs": [],
   "source": [
    "def save_file_to_folder(filename: str, folder_path: str, data: any, image: bool = False):\n",
    "    \"\"\"\n",
    "    Saves a file with the given filename and data to the specified folder path.\n",
    "    If the folder does not exist, it will be created.\n",
    "\n",
    "    Parameters:\n",
    "    filename (str): The name of the file to be saved.\n",
    "    folder_path (str): The path to the folder where the file will be saved.\n",
    "    data (any): The data to be written to the file.\n",
    "    image (bool, optional): A flag indicating whether the data is an image.\n",
    "                            Defaults to False.\n",
    "    \"\"\"\n",
    "\n",
    "\n",
    "\n",
    "    # Create the folder if it doesn't exist\n",
    "    if not os.path.exists(folder_path):\n",
    "        os.makedirs(folder_path)\n",
    "\n",
    "    # Construct the full path to the file\n",
    "    filepath = os.path.join(folder_path, filename)\n",
    "\n",
    "    # If the data is an image, save the image\n",
    "    if image:\n",
    "        data.save(filepath)\n",
    "    else:\n",
    "        # Write the data to the file\n",
    "        with open(filepath, 'w') as f:\n",
    "            f.write(data)"
   ]
  },
  {
   "cell_type": "code",
   "execution_count": 4,
   "id": "2ab9248d",
   "metadata": {
    "pycharm": {
     "name": "#%%\n"
    }
   },
   "outputs": [],
   "source": [
    "def generate_imageprompt(prompt: str, max_token: int, with_examples: bool = False) -> str:\n",
    "    \"\"\"\n",
    "    Generates an image prompt by calling the OpenAI API with the provided prompt text\n",
    "    and max_token value. The function includes additional directions for the user to\n",
    "    follow in generating the prompt, and an optional flag with_examples to provide sample\n",
    "    prompts as a reference. The function returns the generated prompt text as a string.\n",
    "\n",
    "    :param prompt: A string representing the image prompt.\n",
    "    :param max_token: An integer representing the maximum number of tokens allowed in the generated prompt.\n",
    "    :param with_examples: A boolean flag to include or exclude examples of prompts.\n",
    "    :return: A string representing the generated prompt.\n",
    "    \"\"\"\n",
    "    # Define prompt directions based on the with_examples flag\n",
    "    if with_examples:\n",
    "        prompt_directions = f\"\"\"Provide a prompt in {max_token} words for a text-to-image diffusion\n",
    "        transformer that contains and image of  \"{prompt}\" in a photo-realistic image.\n",
    "        Here are examples of prompts with features added to the image description. Include image features like these examples\n",
    "        but modify the subject to the description above. Keep the subject simple but expand list details of image style\n",
    "        and quality.\n",
    "        Only respond with the description itself.\n",
    "\n",
    "        'a cute kitten made out of metal, (cyborg:1.1), ([tail | detailed wire]:1.3),\n",
    "        (intricate details), hdr, (intricate details, hyperdetailed:1.2), cinematic shot, vignette, centered'\n",
    "\n",
    "        'medical mask, victorian era, cinematography, intricately detailed, crafted, meticulous, magnificent,\n",
    "        maximum details, extremely hyper aesthetic'\n",
    "\n",
    "        'A stunning intricate full color portrait of (sks person:1), wearing a black turtleneck, epic character composition, by ilya kuvshinov,\n",
    "        alessio albi, nina masic, sharp focus, natural lighting, subsurface scattering, f2, 35mm, film grain,'\n",
    "\n",
    "        'A stunning intricate full color portrait of (35 years old sks person:1) as (viking warrior), (barbarian), epic character composition, by ilya kuvshinov,\n",
    "        alessio albi, nina masic, sharp focus, natural lighting, subsurface scattering, f2, 35mm, film grain,'\n",
    "\n",
    "        '(Cinematic photo: 1. 3), directional look, octane render, ultra detailed, wide angle full body, 8k, ultra-detailed, (backlight:1. 2) intricate, style-empire'\n",
    "\n",
    "        'ultra High Detail. High definition, Canon EOS 5D Mark IV, full-frame, 50mm focal length, ISO 100, aperture f/2.8,, high detail, HDR, postprocessed, award winning, 4K 8K photography, high resolution, depth of field, magnificent, elegant, beautiful, fantastical'\n",
    "\n",
    "        'photo-realistic, fine detail in face, skin texture, portrait'\n",
    "        \"\"\"\n",
    "    else:\n",
    "        prompt_directions = f\"\"\"Provide a prompt in {max_token} words for a text-to-image diffusion\n",
    "        transformer that contains and image of  \"{prompt}\".\n",
    "        Only respond with the description itself.\"\"\"\n",
    "\n",
    "    # Read the OpenAI API token from a file\n",
    "    with open(\"/Users/megan.bultema/Documents/chatgpttoken.txt\", \"r\") as file:\n",
    "        OPENAI_API_TOKEN = file.read().strip()\n",
    "\n",
    "    headers = {\"Authorization\": f\"Bearer {OPENAI_API_TOKEN}\"}\n",
    "    url = \"https://api.openai.com/v1/chat/completions\"\n",
    "    payload = {\n",
    "    \"model\": \"gpt-3.5-turbo\",\n",
    "    \"messages\": [{\"role\": \"user\", \"content\": prompt_directions}],\n",
    "    \"max_tokens\": max_token+20,\n",
    "    \"temperature\": 1.0,\n",
    "    }\n",
    "\n",
    "    # Send a POST request to the OpenAI API\n",
    "    res = requests.post(url, json=payload, headers=headers)\n",
    "\n",
    "    # If too many requests are made, wait for 2 minutes and try again\n",
    "    while res.status_code == 429:\n",
    "        print(\"Too many requests, waiting 3 minutes...\")\n",
    "        time.sleep(180)\n",
    "        res = requests.post(url, json=payload, headers=headers)\n",
    "\n",
    "    # Extract the generated prompt from the API response\n",
    "    result = res.json()[\"choices\"][0][\"message\"][\"content\"].strip()\n",
    "\n",
    "    return result\n"
   ]
  },
  {
   "cell_type": "code",
   "execution_count": 5,
   "id": "ca175be6",
   "metadata": {
    "pycharm": {
     "name": "#%%\n"
    }
   },
   "outputs": [],
   "source": [
    "def generate_negativeprompt() -> str:\n",
    "    \"\"\"\n",
    "    Generates a negative prompt for a text-to-image diffusion using the OpenAI API.\n",
    "    The negative prompt helps prevent image disfiguration and Not Safe For Work images.\n",
    "    \n",
    "    Returns:\n",
    "    str: the generated negative prompt text as a string.\n",
    "    \"\"\"\n",
    "    \n",
    "    prompt_directions = f\"\"\"Provide a negative prompt in 70 words for a text-to-image diffusion\n",
    "    that prevents distortion or Not Safe For Work images\n",
    "    Here are examples of negative prompts. The negative prompt should be in list format.\n",
    "    Only respond with the description itself.\n",
    "    \n",
    "    'distorted face, ((disfigured)), ((bad art)), ((deformed)),\n",
    "    ((poorly drawn)), ((extra limbs)), ((close up)), ((b&w)), weird colors, blurry'\n",
    "    \n",
    "    \n",
    "    'distorted face, (((duplicate))), ((mole)), ((blemish)), ((morbid)), ((wrinkles)), ((mutilated)), [out of frame], extra fingers, mutated hands, ((poorly drawn hands)), ((poorly drawn face)), (((mutation))), (((deformed))), ((ugly)), blurry, ((bad anatomy)), (((bad proportions))), ((extra limbs)), cloned face, (((disfigured))), out of frame, ugly, extra limbs, (bad anatomy), gross proportions, (malformed limbs), ((missing arms)), ((missing legs)), (((extra arms))), (((extra legs))), mutated hands, (fused fingers), (too many fingers), (((long neck)))'\n",
    "    \n",
    "    'distorted face, (deformed, distorted, disfigured:1.3), poorly drawn, bad anatomy, wrong anatomy, extra limb, missing limb, floating limbs, (mutated hands and fingers:1.4), \n",
    "    disconnected limbs, mutation, mutated, ugly, disgusting, blurry, amputation, flowers, human, man, woman'\n",
    "\n",
    "    'distorted face, deformed, bad anatomy, disfigured, poorly drawn face, mutation, mutated, extra limb, ugly, disgusting, poorly drawn hands, missing limb, floating limbs, disconnected limbs, malformed hands, blurry, ((((mutated hands and fingers)))), watermark, watermarked, oversaturated, censored, distorted hands,\n",
    "    amputation, missing hands, obese, doubled face, double hands, b&w, black and white, sepia, flowers, roses'\n",
    "    \n",
    "    'distorted face'\n",
    "    \n",
    "    'distorted face, nrealfixer, nfixer, nartfixer, illustration, drawing, 3d, b&w, \n",
    "    (deformed, distorted, disfigured:1.3), poorly drawn, bad anatomy, wrong anatomy, extra limb, missing limb, floating limbs, (mutated hands and fingers:1.4), disconnected limbs, mutation, mutated, ugly, disgusting, blurry, amputation'\n",
    "    \n",
    "    'distorted face, realisticvision-negative-embedding, (low quality, worst quality:1.4), canvas frame, 3d, ((disfigured)), ((bad art)), ((deformed)),((extra limbs)),((close up)),((b&w)), weird colors, blurry, (((duplicate))), ((morbid)), ((mutilated)), [out of frame], extra fingers, mutated hands, ((poorly drawn hands)), ((poorly drawn face)), (((mutation))), (((deformed))), ((ugly)), blurry, ((bad anatomy)), (((bad proportions))), ((extra limbs)), cloned face, (((disfigured))), out of frame, ugly, extra limbs, (bad anatomy), gross proportions, (malformed limbs), ((missing arms)), ((missing legs)), (((extra arms))), (((extra legs))), mutated hands, (fused fingers), (too many fingers), (((long neck))), Photoshop, video game, ugly, tiling, poorly drawn hands, poorly drawn feet, poorly drawn face, out of frame, mutation, mutated, extra limbs, extra legs, extra arms, disfigured, deformed, cross-eye, body out of frame, blurry, \n",
    "    bad art, bad anatomy,3d render, canvas frame, 3d, ((disfigured)), ((bad art)), ((deformed)),((extra limbs)),((close up)),((b&w)), wierd colors, blurry, (((duplicate))), ((morbid)), ((mutilated)), [out of frame], extra fingers, mutated hands, ((poorly drawn hands)), ((poorly drawn face)), (((mutation))), (((deformed))), ((ugly)), blurry, ((bad anatomy)), (((bad proportions))), ((extra limbs)), cloned face, (((disfigured))), out of frame, ugly, extra limbs, (bad anatomy), gross proportions, (malformed limbs), ((missing arms)), ((missing legs)), (((extra arms))), (((extra legs))), mutated hands, (fused fingers), (too many fingers), (((long neck))), Photoshop, video game, ugly, tiling, poorly drawn hands, poorly drawn feet, poorly drawn face, out of frame, mutation, mutated, extra limbs, extra legs, extra arms, disfigured, deformed, cross-eye, body out of frame, blurry, bad art, bad anatomy, 3d render'\n",
    "\n",
    "    \"\"\"\n",
    "\n",
    "    with open(\"/Users/megan.bultema/Documents/chatgpttoken.txt\", \"r\") as file:\n",
    "        OPENAI_API_TOKEN = file.read()\n",
    "        OPENAI_API_TOKEN = OPENAI_API_TOKEN.strip()\n",
    "    headers = {\"Authorization\": f\"Bearer {OPENAI_API_TOKEN}\"} \n",
    "    url = \"https://api.openai.com/v1/chat/completions\" \n",
    "    payload = { \n",
    "    \"model\": \"gpt-3.5-turbo\", \n",
    "    \"messages\": [{\"role\": \"user\", \"content\": prompt_directions}], \n",
    "    \"max_tokens\": 150, \n",
    "    \"temperature\": 1.0, \n",
    "    } \n",
    "    \n",
    "    res = requests.post(url, json=payload, headers=headers)\n",
    "#     print(res)\n",
    "#     print(res.status_code)\n",
    "    while True:\n",
    "        if res.status_code == 429:\n",
    "            print(\"Too many requests, waiting 3 minutes...\")\n",
    "            time.sleep(180)\n",
    "        else:\n",
    "            result = res.json()[\"choices\"][0][\"message\"][\"content\"]\n",
    "            return result\n",
    "\n"
   ]
  },
  {
   "cell_type": "code",
   "execution_count": 6,
   "id": "c57de46c",
   "metadata": {
    "pycharm": {
     "name": "#%%\n"
    }
   },
   "outputs": [],
   "source": [
    "def generate_image_title(prompt, max_token): \n",
    "    \n",
    "    prompt_directions = f\"\"\"Provide a simple title for an image that contains \"{prompt}\".  \n",
    "    Only respond with the title itself. \n",
    "    The title should be 2 words in length\"\"\"\n",
    "\n",
    "    with open(\"/Users/megan.bultema/Documents/chatgpttoken.txt\", \"r\") as file:\n",
    "        OPENAI_API_TOKEN = file.read()\n",
    "        OPENAI_API_TOKEN = OPENAI_API_TOKEN.strip()\n",
    "    headers = {\"Authorization\": f\"Bearer {OPENAI_API_TOKEN}\"} \n",
    "    url = \"https://api.openai.com/v1/chat/completions\" \n",
    "    payload = { \n",
    "    \"model\": \"gpt-3.5-turbo\", \n",
    "    \"messages\": [{\"role\": \"user\", \"content\": prompt_directions}], \n",
    "    \"max_tokens\": max_token+20, \n",
    "    \"temperature\": 1.0, \n",
    "    } \n",
    "    res = requests.post(url, json=payload, headers=headers) \n",
    "#     print(res)\n",
    "#     print(res.status_code)\n",
    "    while True:\n",
    "        if res.status_code == 429:\n",
    "            print(\"Too many requests, waiting 3 minutes...\")\n",
    "            time.sleep(180)\n",
    "        else:    \n",
    "            result = res.json()[\"choices\"][0][\"message\"][\"content\"]\n",
    "            result = result.strip().lower().replace(\" \",\"_\").replace('.', '').replace('\"', '')\n",
    "            return result"
   ]
  },
  {
   "cell_type": "code",
   "execution_count": 22,
   "id": "46a2e2f3",
   "metadata": {
    "pycharm": {
     "name": "#%%\n"
    }
   },
   "outputs": [],
   "source": [
    "def image_prompt(lora_weight_path, prompt, neg_prompt, save_title, num_image, max_retries=3):\n",
    "    \"\"\"\n",
    "    Generate `num_image` images using a StableDiffusionPipeline model.\n",
    "    For each generated image, the original model and a fine-tuned version of the model are used.\n",
    "\n",
    "    Args:\n",
    "        prompt (str): The prompt to use for image generation.\n",
    "        neg_prompt (str): The negative prompt to use for image generation.\n",
    "        save_title (str): The title of the folder where the generated images will be saved.\n",
    "        num_image (int): The number of images to generate.\n",
    "\n",
    "    Returns:\n",
    "        Tuple: A tuple containing the last generated image using the original model and the last generated\n",
    "            image using the fine-tuned model.\n",
    "    \"\"\"\n",
    "    # initiate fine-tuned model\n",
    "    \n",
    "    pipe_ft = StableDiffusionPipeline.from_pretrained(\"./converted_model_deliberate\")\n",
    "    pipe_ft.unet.load_attn_procs(lora_weight_path)\n",
    "    pipe_ft.to(\"mps\")\n",
    "\n",
    "    # initiate original pretrained model\n",
    "    pipe = StableDiffusionPipeline.from_pretrained(\"./converted_model_deliberate\")\n",
    "    pipe.to(\"mps\")\n",
    "    \n",
    "    #determine/create folder for artifacts\n",
    "    folder_path = 'test_images/'+save_title\n",
    "\n",
    "    # check if folder exists\n",
    "    if os.path.exists(folder_path):\n",
    "        i = 1\n",
    "        while os.path.exists(f\"{folder_path}_{i}\"):\n",
    "            i += 1\n",
    "        # update folder name to iteration with '_#' at the end\n",
    "        folder_name = f\"{folder_path}_{i}\"\n",
    "    else:\n",
    "        folder_name = folder_path\n",
    "    print(folder_name)\n",
    "\n",
    "    # create folder with updated name\n",
    "    os.makedirs(folder_name)\n",
    "    \n",
    "\n",
    "    # save prompts for reference\n",
    "    save_file_to_folder(\"prompt.txt\", folder_name, prompt)\n",
    "    save_file_to_folder(\"negative_prompt.txt\", folder_name, neg_prompt)\n",
    "\n",
    "    last_image = None  # initialize last generated image using original model\n",
    "    last_image_ft = None  # initialize last generated image using fine-tuned model\n",
    "\n",
    "\n",
    "    for i in range(num_image):\n",
    "        retry_count = 0\n",
    "        # generate image using original model\n",
    "        image = pipe(prompt, negative_prompt=neg_prompt, num_inference_steps=25, guidance_scale=7.5).images[0]\n",
    "        # Convert the image to grayscale and check if all pixels are black\n",
    "        is_black = image.convert('L').getextrema() == (0, 0)\n",
    "\n",
    "        if is_black:\n",
    "            print(\"The image is completely black.\")\n",
    "            while retry_count < max_retries and is_black==True:\n",
    "                print(f\"NSFWException caught. Retrying...\")\n",
    "                image = pipe(prompt, negative_prompt=neg_prompt, num_inference_steps=50, guidance_scale=7.5).images[0]\n",
    "                is_black = image.convert('L').getextrema() == (0, 0)\n",
    "                retry_count += 1\n",
    "                \n",
    "            # if image is NSFW and there are no more retries left, skip image and break out of retry loop\n",
    "            else:\n",
    "                print(f\"Image {i} is NSFW and could not be generated after {max_retries} retries.\")\n",
    "                            \n",
    "        save_file_to_folder(f\"{save_title}_{i}.png\", folder_name, image, True)\n",
    "        last_image = image\n",
    "        \n",
    "        \n",
    "                    \n",
    "    for i in range(num_image):\n",
    "        retry_count = 0\n",
    "        # generate image using fine-tuned model\n",
    "        image_ft = pipe_ft(prompt, negative_prompt=neg_prompt, num_inference_steps=25, guidance_scale=7.5).images[0]\n",
    "        # Convert the image to grayscale and check if all pixels are black\n",
    "        is_black = image_ft.convert('L').getextrema() == (0, 0)\n",
    "\n",
    "        if is_black:\n",
    "            print(\"The image is completely black.\")\n",
    "            while retry_count < max_retries and is_black==True:\n",
    "                print(f\"NSFWException caught. Retrying...\")\n",
    "                image_ft = pipe_ft(prompt, negative_prompt=neg_prompt, num_inference_steps=50, guidance_scale=7.5).images[0]\n",
    "                is_black = image_ft.convert('L').getextrema() == (0, 0)\n",
    "                retry_count += 1\n",
    "                \n",
    "            # if image is NSFW and there are no more retries left, skip image and break out of retry loop\n",
    "            else:\n",
    "                print(f\"Image {i} is NSFW and could not be generated after {max_retries} retries.\")\n",
    "                 \n",
    "        \n",
    "        save_file_to_folder(f\"{save_title}_{i}_fine-tuned.png\", folder_name, image_ft, True)\n",
    "        last_image_ft = image_ft\n",
    "        \n",
    "\n",
    "\n",
    "    return last_image, last_image_ft"
   ]
  },
  {
   "cell_type": "code",
   "execution_count": 8,
   "id": "2f86899c",
   "metadata": {
    "pycharm": {
     "name": "#%%\n"
    }
   },
   "outputs": [],
   "source": [
    "def generate_images(lora_weight_path, user_input, num_images=1, with_examples=False):\n",
    "    \"\"\"\n",
    "    Generate images using the Stable Diffusion model, given a user input string.\n",
    "    \n",
    "    Args:\n",
    "    - user_input (str): User input string used to generate image prompts\n",
    "    - num_images (int): Number of images to generate (default=1)\n",
    "    - with_examples (bool): Flag indicating whether or not to include example images in the prompt (default=False)\n",
    "    \n",
    "    Returns:\n",
    "    - image (PIL.Image): Generated image\n",
    "    - image_finetuned (PIL.Image): Generated image after fine-tuning\n",
    "    \"\"\"\n",
    "    # Generate GPT prompt, title and negative prompts for image generation\n",
    "    gpt_title = generate_image_title(user_input, 50)\n",
    "    gpt_prompt = generate_imageprompt(user_input, 50, with_examples)\n",
    "    gpt_negprompt = generate_negativeprompt() \n",
    "    \n",
    "    # Generate images using Stable Diffusion model\n",
    "    \n",
    "    image, image_finetuned = image_prompt(lora_weight_path, gpt_prompt, gpt_negprompt, gpt_title, num_images)\n",
    "    \n",
    "    return image, image_finetuned"
   ]
  },
  {
   "cell_type": "code",
   "execution_count": 9,
   "id": "ec57eda3",
   "metadata": {
    "pycharm": {
     "name": "#%%\n"
    }
   },
   "outputs": [],
   "source": [
    "def generate_images_origprompt(lora_weight_path, user_input, title, num_images=1):\n",
    "    \"\"\"\n",
    "    Generate images using the Stable Diffusion model, given a user input string.\n",
    "    \n",
    "    Args:\n",
    "    - user_input (str): User input string used to generate image prompts\n",
    "    - num_images (int): Number of images to generate (default=1)\n",
    "    - with_examples (bool): Flag indicating whether or not to include example images in the prompt (default=False)\n",
    "    \n",
    "    Returns:\n",
    "    - image (PIL.Image): Generated image\n",
    "    - image_finetuned (PIL.Image): Generated image after fine-tuning\n",
    "    \"\"\"\n",
    " \n",
    "    \n",
    "    negprompt = \"\"\"distorted face, realisticvision-negative-embedding, (low quality, worst quality:1.4), canvas frame, 3d, ((disfigured)), ((bad art)), ((deformed)),((extra limbs)),((close up)),((b&w)), weird colors, blurry, (((duplicate))), ((morbid)), ((mutilated)), [out of frame], extra fingers, mutated hands, ((poorly drawn hands)), ((poorly drawn face)), (((mutation))), (((deformed))), ((ugly)), blurry, ((bad anatomy)), (((bad proportions))), ((extra limbs)), cloned face, (((disfigured))), out of frame, ugly, extra limbs, (bad anatomy), gross proportions, (malformed limbs), ((missing arms)), ((missing legs)), (((extra arms))), (((extra legs))), mutated hands, (fused fingers), (too many fingers), (((long neck))), \n",
    "    Photoshop, video game, ugly, tiling, poorly drawn hands, poorly drawn feet, poorly drawn face, out of frame, mutation, mutated, extra limbs, extra legs, extra arms, disfigured, deformed, cross-eye, body out of frame, blurry, \n",
    "    bad art, bad anatomy,3d render, canvas frame, 3d, ((disfigured)), ((bad art)), ((deformed)),((extra limbs)),\n",
    "    ((close up)),((b&w)), wierd colors, blurry, (((duplicate))), ((morbid)), ((mutilated)), [out of frame], \n",
    "    extra fingers, mutated hands, ((poorly drawn hands)), ((poorly drawn face)), (((mutation))), (((deformed))), \n",
    "    ((ugly)), blurry, ((bad anatomy)), (((bad proportions))), ((extra limbs)), cloned face, (((disfigured))), \n",
    "    out of frame, ugly, extra limbs, (bad anatomy), gross proportions, (malformed limbs), ((missing arms)), \n",
    "    ((missing legs)), (((extra arms))), (((extra legs))), mutated hands, (fused fingers), (too many fingers), \n",
    "    (((long neck))), Photoshop, video game, ugly, tiling, poorly drawn hands, poorly drawn feet, poorly drawn face, \n",
    "    out of frame, mutation, mutated, extra limbs, extra legs, extra arms, disfigured, deformed, cross-eye, \n",
    "    body out of frame, blurry, bad art, bad anatomy, 3d render\"\"\"\n",
    "\n",
    "    \n",
    "    \n",
    "    # Generate images using Stable Diffusion model\n",
    "    \n",
    "    image, image_finetuned = image_prompt(lora_weight_path, user_input, negprompt, title, num_images)\n",
    "    \n",
    "    return image, image_finetuned"
   ]
  },
  {
   "cell_type": "code",
   "execution_count": 17,
   "id": "0bf361d8",
   "metadata": {
    "pycharm": {
     "name": "#%%\n"
    }
   },
   "outputs": [
    {
     "data": {
      "application/vnd.jupyter.widget-view+json": {
       "model_id": "069e25ef043e4f42a126bfc3770562ba",
       "version_major": 2,
       "version_minor": 0
      },
      "text/plain": [
       "  0%|          | 0/25 [00:00<?, ?it/s]"
      ]
     },
     "metadata": {},
     "output_type": "display_data"
    },
    {
     "data": {
      "application/vnd.jupyter.widget-view+json": {
       "model_id": "848ddb4bfb064430be7d9cbaabffecb8",
       "version_major": 2,
       "version_minor": 0
      },
      "text/plain": [
       "  0%|          | 0/25 [00:00<?, ?it/s]"
      ]
     },
     "metadata": {},
     "output_type": "display_data"
    },
    {
     "data": {
      "application/vnd.jupyter.widget-view+json": {
       "model_id": "84e92924dcfc464b9c0b6a319095825f",
       "version_major": 2,
       "version_minor": 0
      },
      "text/plain": [
       "  0%|          | 0/25 [00:00<?, ?it/s]"
      ]
     },
     "metadata": {},
     "output_type": "display_data"
    },
    {
     "data": {
      "application/vnd.jupyter.widget-view+json": {
       "model_id": "c0b3492d0cf34863813a573c4ad38b49",
       "version_major": 2,
       "version_minor": 0
      },
      "text/plain": [
       "  0%|          | 0/25 [00:00<?, ?it/s]"
      ]
     },
     "metadata": {},
     "output_type": "display_data"
    },
    {
     "name": "stderr",
     "output_type": "stream",
     "text": [
      "Potential NSFW content was detected in one or more images. A black image will be returned instead. Try again with a different prompt and/or seed.\n"
     ]
    },
    {
     "name": "stdout",
     "output_type": "stream",
     "text": [
      "The image is completely black.\n",
      "NSFWException caught. Retrying...\n"
     ]
    },
    {
     "data": {
      "application/vnd.jupyter.widget-view+json": {
       "model_id": "5866aa3a8d134673a217a422d40f378b",
       "version_major": 2,
       "version_minor": 0
      },
      "text/plain": [
       "  0%|          | 0/50 [00:00<?, ?it/s]"
      ]
     },
     "metadata": {},
     "output_type": "display_data"
    },
    {
     "name": "stdout",
     "output_type": "stream",
     "text": [
      "Image 3 is NSFW and could not be generated after 3 retries.\n"
     ]
    },
    {
     "data": {
      "application/vnd.jupyter.widget-view+json": {
       "model_id": "a4a4e55d693f44bd96b3aee870566975",
       "version_major": 2,
       "version_minor": 0
      },
      "text/plain": [
       "  0%|          | 0/25 [00:00<?, ?it/s]"
      ]
     },
     "metadata": {},
     "output_type": "display_data"
    },
    {
     "data": {
      "application/vnd.jupyter.widget-view+json": {
       "model_id": "3a189276c47d4e81a2d56fe86312314f",
       "version_major": 2,
       "version_minor": 0
      },
      "text/plain": [
       "  0%|          | 0/25 [00:00<?, ?it/s]"
      ]
     },
     "metadata": {},
     "output_type": "display_data"
    },
    {
     "data": {
      "application/vnd.jupyter.widget-view+json": {
       "model_id": "4163605aefbd4bcdaca27c546bd0fdb9",
       "version_major": 2,
       "version_minor": 0
      },
      "text/plain": [
       "  0%|          | 0/25 [00:00<?, ?it/s]"
      ]
     },
     "metadata": {},
     "output_type": "display_data"
    },
    {
     "data": {
      "application/vnd.jupyter.widget-view+json": {
       "model_id": "237f2d5838fe4f4f8d6865f5adfe4bfa",
       "version_major": 2,
       "version_minor": 0
      },
      "text/plain": [
       "  0%|          | 0/25 [00:00<?, ?it/s]"
      ]
     },
     "metadata": {},
     "output_type": "display_data"
    },
    {
     "data": {
      "application/vnd.jupyter.widget-view+json": {
       "model_id": "15eb4d603b83446d87482268318d2670",
       "version_major": 2,
       "version_minor": 0
      },
      "text/plain": [
       "  0%|          | 0/25 [00:00<?, ?it/s]"
      ]
     },
     "metadata": {},
     "output_type": "display_data"
    },
    {
     "data": {
      "application/vnd.jupyter.widget-view+json": {
       "model_id": "77192638e0d347c0a083a63451c27876",
       "version_major": 2,
       "version_minor": 0
      },
      "text/plain": [
       "  0%|          | 0/25 [00:00<?, ?it/s]"
      ]
     },
     "metadata": {},
     "output_type": "display_data"
    }
   ],
   "source": [
    "image_base, image_ft = generate_images_origprompt(\"./deliberate_simpsons\",'Bart Simpson in military uniform working on a computer', 'bart_officer', 5)"
   ]
  },
  {
   "cell_type": "code",
   "execution_count": 12,
   "id": "1e57c34a",
   "metadata": {
    "pycharm": {
     "name": "#%%\n"
    }
   },
   "outputs": [
    {
     "data": {
      "application/vnd.jupyter.widget-view+json": {
       "model_id": "daed93ffd52b4b128d650cb009cdf4be",
       "version_major": 2,
       "version_minor": 0
      },
      "text/plain": [
       "  0%|          | 0/25 [00:00<?, ?it/s]"
      ]
     },
     "metadata": {},
     "output_type": "display_data"
    },
    {
     "data": {
      "application/vnd.jupyter.widget-view+json": {
       "model_id": "1385a685e11b43efa1544568821271b8",
       "version_major": 2,
       "version_minor": 0
      },
      "text/plain": [
       "  0%|          | 0/25 [00:00<?, ?it/s]"
      ]
     },
     "metadata": {},
     "output_type": "display_data"
    },
    {
     "data": {
      "application/vnd.jupyter.widget-view+json": {
       "model_id": "6c738807f72e4f1cbcf60426af419887",
       "version_major": 2,
       "version_minor": 0
      },
      "text/plain": [
       "  0%|          | 0/25 [00:00<?, ?it/s]"
      ]
     },
     "metadata": {},
     "output_type": "display_data"
    },
    {
     "data": {
      "application/vnd.jupyter.widget-view+json": {
       "model_id": "a25d93438926405698f320ec947ab44e",
       "version_major": 2,
       "version_minor": 0
      },
      "text/plain": [
       "  0%|          | 0/25 [00:00<?, ?it/s]"
      ]
     },
     "metadata": {},
     "output_type": "display_data"
    },
    {
     "data": {
      "application/vnd.jupyter.widget-view+json": {
       "model_id": "944c4318bcab43e891b176f9c8513674",
       "version_major": 2,
       "version_minor": 0
      },
      "text/plain": [
       "  0%|          | 0/25 [00:00<?, ?it/s]"
      ]
     },
     "metadata": {},
     "output_type": "display_data"
    },
    {
     "data": {
      "application/vnd.jupyter.widget-view+json": {
       "model_id": "ce6e2256da1c461e8bf54bbe652ef1e2",
       "version_major": 2,
       "version_minor": 0
      },
      "text/plain": [
       "  0%|          | 0/25 [00:00<?, ?it/s]"
      ]
     },
     "metadata": {},
     "output_type": "display_data"
    },
    {
     "data": {
      "application/vnd.jupyter.widget-view+json": {
       "model_id": "6ac4c6da1524404591e57ce8d80d9ae1",
       "version_major": 2,
       "version_minor": 0
      },
      "text/plain": [
       "  0%|          | 0/25 [00:00<?, ?it/s]"
      ]
     },
     "metadata": {},
     "output_type": "display_data"
    },
    {
     "data": {
      "application/vnd.jupyter.widget-view+json": {
       "model_id": "a991e1d884634a0289edb02b2d693df9",
       "version_major": 2,
       "version_minor": 0
      },
      "text/plain": [
       "  0%|          | 0/25 [00:00<?, ?it/s]"
      ]
     },
     "metadata": {},
     "output_type": "display_data"
    },
    {
     "data": {
      "application/vnd.jupyter.widget-view+json": {
       "model_id": "4458f5226c96471fbd637da361e7e024",
       "version_major": 2,
       "version_minor": 0
      },
      "text/plain": [
       "  0%|          | 0/25 [00:00<?, ?it/s]"
      ]
     },
     "metadata": {},
     "output_type": "display_data"
    },
    {
     "data": {
      "application/vnd.jupyter.widget-view+json": {
       "model_id": "a53fe7abedb2420ea980657346733a2f",
       "version_major": 2,
       "version_minor": 0
      },
      "text/plain": [
       "  0%|          | 0/25 [00:00<?, ?it/s]"
      ]
     },
     "metadata": {},
     "output_type": "display_data"
    }
   ],
   "source": [
    "image_base, image_ft = generate_images(\"./deliberate_AnselAdams\",'Ansel Adams photograph of Mars', 5, False)"
   ]
  },
  {
   "cell_type": "code",
   "execution_count": 13,
   "id": "1952a61a",
   "metadata": {
    "pycharm": {
     "name": "#%%\n"
    }
   },
   "outputs": [
    {
     "data": {
      "application/vnd.jupyter.widget-view+json": {
       "model_id": "b9af8cb6f19a4cc0a8739d6305511192",
       "version_major": 2,
       "version_minor": 0
      },
      "text/plain": [
       "  0%|          | 0/25 [00:00<?, ?it/s]"
      ]
     },
     "metadata": {},
     "output_type": "display_data"
    },
    {
     "data": {
      "application/vnd.jupyter.widget-view+json": {
       "model_id": "3727ba15006d4a9181c8c6cbd0bca774",
       "version_major": 2,
       "version_minor": 0
      },
      "text/plain": [
       "  0%|          | 0/25 [00:00<?, ?it/s]"
      ]
     },
     "metadata": {},
     "output_type": "display_data"
    },
    {
     "data": {
      "application/vnd.jupyter.widget-view+json": {
       "model_id": "80640342aea44163967dfde9c6baee49",
       "version_major": 2,
       "version_minor": 0
      },
      "text/plain": [
       "  0%|          | 0/25 [00:00<?, ?it/s]"
      ]
     },
     "metadata": {},
     "output_type": "display_data"
    },
    {
     "data": {
      "application/vnd.jupyter.widget-view+json": {
       "model_id": "cc18d54b3caf4158afa1da3346382df1",
       "version_major": 2,
       "version_minor": 0
      },
      "text/plain": [
       "  0%|          | 0/25 [00:00<?, ?it/s]"
      ]
     },
     "metadata": {},
     "output_type": "display_data"
    },
    {
     "data": {
      "application/vnd.jupyter.widget-view+json": {
       "model_id": "28b63dca58e8445e895b05268d10f411",
       "version_major": 2,
       "version_minor": 0
      },
      "text/plain": [
       "  0%|          | 0/25 [00:00<?, ?it/s]"
      ]
     },
     "metadata": {},
     "output_type": "display_data"
    },
    {
     "name": "stderr",
     "output_type": "stream",
     "text": [
      "Potential NSFW content was detected in one or more images. A black image will be returned instead. Try again with a different prompt and/or seed.\n"
     ]
    },
    {
     "name": "stdout",
     "output_type": "stream",
     "text": [
      "The image is completely black.\n",
      "NSFWException caught. Retrying...\n"
     ]
    },
    {
     "data": {
      "application/vnd.jupyter.widget-view+json": {
       "model_id": "223797603038445299776b1f09208b18",
       "version_major": 2,
       "version_minor": 0
      },
      "text/plain": [
       "  0%|          | 0/50 [00:00<?, ?it/s]"
      ]
     },
     "metadata": {},
     "output_type": "display_data"
    },
    {
     "name": "stdout",
     "output_type": "stream",
     "text": [
      "Image 4 is NSFW and could not be generated after 3 retries.\n"
     ]
    },
    {
     "data": {
      "application/vnd.jupyter.widget-view+json": {
       "model_id": "a72738dfe3e54e6d80c2e7932292505d",
       "version_major": 2,
       "version_minor": 0
      },
      "text/plain": [
       "  0%|          | 0/25 [00:00<?, ?it/s]"
      ]
     },
     "metadata": {},
     "output_type": "display_data"
    },
    {
     "data": {
      "application/vnd.jupyter.widget-view+json": {
       "model_id": "7e9b210b7a8c47f88962481150f3324f",
       "version_major": 2,
       "version_minor": 0
      },
      "text/plain": [
       "  0%|          | 0/25 [00:00<?, ?it/s]"
      ]
     },
     "metadata": {},
     "output_type": "display_data"
    },
    {
     "data": {
      "application/vnd.jupyter.widget-view+json": {
       "model_id": "0ee55a6e96da46e1a805a111a98f4998",
       "version_major": 2,
       "version_minor": 0
      },
      "text/plain": [
       "  0%|          | 0/25 [00:00<?, ?it/s]"
      ]
     },
     "metadata": {},
     "output_type": "display_data"
    },
    {
     "data": {
      "application/vnd.jupyter.widget-view+json": {
       "model_id": "c96889b86c1e49bdb06ea7586c5a76db",
       "version_major": 2,
       "version_minor": 0
      },
      "text/plain": [
       "  0%|          | 0/25 [00:00<?, ?it/s]"
      ]
     },
     "metadata": {},
     "output_type": "display_data"
    },
    {
     "data": {
      "application/vnd.jupyter.widget-view+json": {
       "model_id": "070ea174a0654e898ab4dc539d43b295",
       "version_major": 2,
       "version_minor": 0
      },
      "text/plain": [
       "  0%|          | 0/25 [00:00<?, ?it/s]"
      ]
     },
     "metadata": {},
     "output_type": "display_data"
    }
   ],
   "source": [
    "image_base, image_ft = generate_images(\"./deliberate_simpsons\",'Homer Simpson driving a truck', 5, False)"
   ]
  },
  {
   "cell_type": "code",
   "execution_count": 18,
   "id": "52566a76",
   "metadata": {
    "pycharm": {
     "name": "#%%\n"
    }
   },
   "outputs": [
    {
     "data": {
      "application/vnd.jupyter.widget-view+json": {
       "model_id": "2b9de8cc33524df2bf724447b8526465",
       "version_major": 2,
       "version_minor": 0
      },
      "text/plain": [
       "  0%|          | 0/25 [00:00<?, ?it/s]"
      ]
     },
     "metadata": {},
     "output_type": "display_data"
    },
    {
     "data": {
      "application/vnd.jupyter.widget-view+json": {
       "model_id": "fb4987f521044bca9a00ecc3d719600b",
       "version_major": 2,
       "version_minor": 0
      },
      "text/plain": [
       "  0%|          | 0/25 [00:00<?, ?it/s]"
      ]
     },
     "metadata": {},
     "output_type": "display_data"
    },
    {
     "data": {
      "application/vnd.jupyter.widget-view+json": {
       "model_id": "7c83e64ec1464b5091d34441a2afc79c",
       "version_major": 2,
       "version_minor": 0
      },
      "text/plain": [
       "  0%|          | 0/25 [00:00<?, ?it/s]"
      ]
     },
     "metadata": {},
     "output_type": "display_data"
    },
    {
     "data": {
      "application/vnd.jupyter.widget-view+json": {
       "model_id": "1a6bded4d937453b99f5cb58dd64cbba",
       "version_major": 2,
       "version_minor": 0
      },
      "text/plain": [
       "  0%|          | 0/25 [00:00<?, ?it/s]"
      ]
     },
     "metadata": {},
     "output_type": "display_data"
    },
    {
     "data": {
      "application/vnd.jupyter.widget-view+json": {
       "model_id": "a8223d0ad4b746f39541ee3c627a419d",
       "version_major": 2,
       "version_minor": 0
      },
      "text/plain": [
       "  0%|          | 0/25 [00:00<?, ?it/s]"
      ]
     },
     "metadata": {},
     "output_type": "display_data"
    },
    {
     "data": {
      "application/vnd.jupyter.widget-view+json": {
       "model_id": "96e11871e49849d4b182e37500d98b83",
       "version_major": 2,
       "version_minor": 0
      },
      "text/plain": [
       "  0%|          | 0/25 [00:00<?, ?it/s]"
      ]
     },
     "metadata": {},
     "output_type": "display_data"
    },
    {
     "data": {
      "application/vnd.jupyter.widget-view+json": {
       "model_id": "ddfa5def9819407782ea5c37e6be7dee",
       "version_major": 2,
       "version_minor": 0
      },
      "text/plain": [
       "  0%|          | 0/25 [00:00<?, ?it/s]"
      ]
     },
     "metadata": {},
     "output_type": "display_data"
    },
    {
     "data": {
      "application/vnd.jupyter.widget-view+json": {
       "model_id": "15380046d44c432f884e9d4b988877df",
       "version_major": 2,
       "version_minor": 0
      },
      "text/plain": [
       "  0%|          | 0/25 [00:00<?, ?it/s]"
      ]
     },
     "metadata": {},
     "output_type": "display_data"
    },
    {
     "data": {
      "application/vnd.jupyter.widget-view+json": {
       "model_id": "71e35e403d9240178690bbd7cba2d4ee",
       "version_major": 2,
       "version_minor": 0
      },
      "text/plain": [
       "  0%|          | 0/25 [00:00<?, ?it/s]"
      ]
     },
     "metadata": {},
     "output_type": "display_data"
    },
    {
     "data": {
      "application/vnd.jupyter.widget-view+json": {
       "model_id": "307f10b11ced418ea4ee7c7fc5bd62d8",
       "version_major": 2,
       "version_minor": 0
      },
      "text/plain": [
       "  0%|          | 0/25 [00:00<?, ?it/s]"
      ]
     },
     "metadata": {},
     "output_type": "display_data"
    }
   ],
   "source": [
    "image_base, image_ft = generate_images(\"./deliberate_simpsons\",'Cleopatra Marge Simpson', 5, True)"
   ]
  },
  {
   "cell_type": "code",
   "execution_count": 19,
   "id": "f6a07cee",
   "metadata": {
    "pycharm": {
     "name": "#%%\n"
    }
   },
   "outputs": [
    {
     "data": {
      "application/vnd.jupyter.widget-view+json": {
       "model_id": "535c3b8ca6514b2498ba6e402cda61a3",
       "version_major": 2,
       "version_minor": 0
      },
      "text/plain": [
       "  0%|          | 0/25 [00:00<?, ?it/s]"
      ]
     },
     "metadata": {},
     "output_type": "display_data"
    },
    {
     "data": {
      "application/vnd.jupyter.widget-view+json": {
       "model_id": "0869f8d4972344da86f1263e04e1f55b",
       "version_major": 2,
       "version_minor": 0
      },
      "text/plain": [
       "  0%|          | 0/25 [00:00<?, ?it/s]"
      ]
     },
     "metadata": {},
     "output_type": "display_data"
    },
    {
     "data": {
      "application/vnd.jupyter.widget-view+json": {
       "model_id": "09adbbd37bf345c1b6d43c6a7a88500a",
       "version_major": 2,
       "version_minor": 0
      },
      "text/plain": [
       "  0%|          | 0/25 [00:00<?, ?it/s]"
      ]
     },
     "metadata": {},
     "output_type": "display_data"
    },
    {
     "data": {
      "application/vnd.jupyter.widget-view+json": {
       "model_id": "742337749ba44e399b63f5138db7e428",
       "version_major": 2,
       "version_minor": 0
      },
      "text/plain": [
       "  0%|          | 0/25 [00:00<?, ?it/s]"
      ]
     },
     "metadata": {},
     "output_type": "display_data"
    },
    {
     "data": {
      "application/vnd.jupyter.widget-view+json": {
       "model_id": "bdf75b3dff154e39beda147fa2903f2a",
       "version_major": 2,
       "version_minor": 0
      },
      "text/plain": [
       "  0%|          | 0/25 [00:00<?, ?it/s]"
      ]
     },
     "metadata": {},
     "output_type": "display_data"
    },
    {
     "data": {
      "application/vnd.jupyter.widget-view+json": {
       "model_id": "ab74dc5cd2b84790b3ae415b16f20cd0",
       "version_major": 2,
       "version_minor": 0
      },
      "text/plain": [
       "  0%|          | 0/25 [00:00<?, ?it/s]"
      ]
     },
     "metadata": {},
     "output_type": "display_data"
    },
    {
     "data": {
      "application/vnd.jupyter.widget-view+json": {
       "model_id": "8d5a7842013a48aeb1baa18f4636f3a0",
       "version_major": 2,
       "version_minor": 0
      },
      "text/plain": [
       "  0%|          | 0/25 [00:00<?, ?it/s]"
      ]
     },
     "metadata": {},
     "output_type": "display_data"
    },
    {
     "data": {
      "application/vnd.jupyter.widget-view+json": {
       "model_id": "7de24d137bda4a18a8534be895473850",
       "version_major": 2,
       "version_minor": 0
      },
      "text/plain": [
       "  0%|          | 0/25 [00:00<?, ?it/s]"
      ]
     },
     "metadata": {},
     "output_type": "display_data"
    },
    {
     "data": {
      "application/vnd.jupyter.widget-view+json": {
       "model_id": "01e5e5e8af74446a99a3582f1b443515",
       "version_major": 2,
       "version_minor": 0
      },
      "text/plain": [
       "  0%|          | 0/25 [00:00<?, ?it/s]"
      ]
     },
     "metadata": {},
     "output_type": "display_data"
    },
    {
     "data": {
      "application/vnd.jupyter.widget-view+json": {
       "model_id": "e50f912e18d14d348926ce0ee2028267",
       "version_major": 2,
       "version_minor": 0
      },
      "text/plain": [
       "  0%|          | 0/25 [00:00<?, ?it/s]"
      ]
     },
     "metadata": {},
     "output_type": "display_data"
    }
   ],
   "source": [
    "image_base, image_ft = generate_images(\"./deliberate_simpsons\",'Homer Simpson as George Washington', 5, True)"
   ]
  },
  {
   "cell_type": "code",
   "execution_count": 14,
   "id": "0ccec396",
   "metadata": {
    "pycharm": {
     "name": "#%%\n"
    }
   },
   "outputs": [
    {
     "data": {
      "application/vnd.jupyter.widget-view+json": {
       "model_id": "78eb8ae01d394ef688318b9dd9b908fc",
       "version_major": 2,
       "version_minor": 0
      },
      "text/plain": [
       "  0%|          | 0/25 [00:00<?, ?it/s]"
      ]
     },
     "metadata": {},
     "output_type": "display_data"
    },
    {
     "data": {
      "application/vnd.jupyter.widget-view+json": {
       "model_id": "4f87f6814bed42579cf03814083d6863",
       "version_major": 2,
       "version_minor": 0
      },
      "text/plain": [
       "  0%|          | 0/25 [00:00<?, ?it/s]"
      ]
     },
     "metadata": {},
     "output_type": "display_data"
    },
    {
     "data": {
      "application/vnd.jupyter.widget-view+json": {
       "model_id": "6112dad62d6540f691be8f84214130aa",
       "version_major": 2,
       "version_minor": 0
      },
      "text/plain": [
       "  0%|          | 0/25 [00:00<?, ?it/s]"
      ]
     },
     "metadata": {},
     "output_type": "display_data"
    },
    {
     "data": {
      "application/vnd.jupyter.widget-view+json": {
       "model_id": "92feb80fd07647b6a906e2ec73bd3c9d",
       "version_major": 2,
       "version_minor": 0
      },
      "text/plain": [
       "  0%|          | 0/25 [00:00<?, ?it/s]"
      ]
     },
     "metadata": {},
     "output_type": "display_data"
    },
    {
     "data": {
      "application/vnd.jupyter.widget-view+json": {
       "model_id": "7e746170194e405ca21165349a153ed1",
       "version_major": 2,
       "version_minor": 0
      },
      "text/plain": [
       "  0%|          | 0/25 [00:00<?, ?it/s]"
      ]
     },
     "metadata": {},
     "output_type": "display_data"
    },
    {
     "data": {
      "application/vnd.jupyter.widget-view+json": {
       "model_id": "740c152196504cb8b0506a6e2222e541",
       "version_major": 2,
       "version_minor": 0
      },
      "text/plain": [
       "  0%|          | 0/25 [00:00<?, ?it/s]"
      ]
     },
     "metadata": {},
     "output_type": "display_data"
    },
    {
     "data": {
      "application/vnd.jupyter.widget-view+json": {
       "model_id": "077049edb233430eb80ec3266e1ba08e",
       "version_major": 2,
       "version_minor": 0
      },
      "text/plain": [
       "  0%|          | 0/25 [00:00<?, ?it/s]"
      ]
     },
     "metadata": {},
     "output_type": "display_data"
    },
    {
     "data": {
      "application/vnd.jupyter.widget-view+json": {
       "model_id": "0e49ae4961b34f47b8ad604c9c0b85eb",
       "version_major": 2,
       "version_minor": 0
      },
      "text/plain": [
       "  0%|          | 0/25 [00:00<?, ?it/s]"
      ]
     },
     "metadata": {},
     "output_type": "display_data"
    },
    {
     "data": {
      "application/vnd.jupyter.widget-view+json": {
       "model_id": "8ccab92b705642eda989728aaf967136",
       "version_major": 2,
       "version_minor": 0
      },
      "text/plain": [
       "  0%|          | 0/25 [00:00<?, ?it/s]"
      ]
     },
     "metadata": {},
     "output_type": "display_data"
    },
    {
     "data": {
      "application/vnd.jupyter.widget-view+json": {
       "model_id": "d6267a5f5d554253b7f118b33722c05e",
       "version_major": 2,
       "version_minor": 0
      },
      "text/plain": [
       "  0%|          | 0/25 [00:00<?, ?it/s]"
      ]
     },
     "metadata": {},
     "output_type": "display_data"
    }
   ],
   "source": [
    "image_base, image_ft = generate_images(\"./deliberate_simpsons200\",'Bart Simpson as a cartoon Miliatry commander', 5, True)"
   ]
  },
  {
   "cell_type": "code",
   "execution_count": 25,
   "id": "39b0ebc1",
   "metadata": {
    "pycharm": {
     "name": "#%%\n"
    }
   },
   "outputs": [
    {
     "name": "stdout",
     "output_type": "stream",
     "text": [
      "test_images/president_simpson\n"
     ]
    },
    {
     "data": {
      "application/vnd.jupyter.widget-view+json": {
       "model_id": "6f5cc0f080d1414894367de9820cc1ce",
       "version_major": 2,
       "version_minor": 0
      },
      "text/plain": [
       "  0%|          | 0/25 [00:00<?, ?it/s]"
      ]
     },
     "metadata": {},
     "output_type": "display_data"
    },
    {
     "data": {
      "application/vnd.jupyter.widget-view+json": {
       "model_id": "16233973452546459b4746cb3fae9600",
       "version_major": 2,
       "version_minor": 0
      },
      "text/plain": [
       "  0%|          | 0/25 [00:00<?, ?it/s]"
      ]
     },
     "metadata": {},
     "output_type": "display_data"
    },
    {
     "data": {
      "application/vnd.jupyter.widget-view+json": {
       "model_id": "cbc0e8a26b0d4b689ae8170aaecd1884",
       "version_major": 2,
       "version_minor": 0
      },
      "text/plain": [
       "  0%|          | 0/25 [00:00<?, ?it/s]"
      ]
     },
     "metadata": {},
     "output_type": "display_data"
    },
    {
     "data": {
      "application/vnd.jupyter.widget-view+json": {
       "model_id": "dab4da2680814405a6376e0696cbe20e",
       "version_major": 2,
       "version_minor": 0
      },
      "text/plain": [
       "  0%|          | 0/25 [00:00<?, ?it/s]"
      ]
     },
     "metadata": {},
     "output_type": "display_data"
    },
    {
     "data": {
      "application/vnd.jupyter.widget-view+json": {
       "model_id": "ffbf5c21a1f6460cba44b75fa2e93b37",
       "version_major": 2,
       "version_minor": 0
      },
      "text/plain": [
       "  0%|          | 0/25 [00:00<?, ?it/s]"
      ]
     },
     "metadata": {},
     "output_type": "display_data"
    },
    {
     "data": {
      "application/vnd.jupyter.widget-view+json": {
       "model_id": "1bc2ac3b57a746a4884518fbd4ad11d4",
       "version_major": 2,
       "version_minor": 0
      },
      "text/plain": [
       "  0%|          | 0/25 [00:00<?, ?it/s]"
      ]
     },
     "metadata": {},
     "output_type": "display_data"
    },
    {
     "data": {
      "application/vnd.jupyter.widget-view+json": {
       "model_id": "c9576d8e1139496db0b69adb0b817076",
       "version_major": 2,
       "version_minor": 0
      },
      "text/plain": [
       "  0%|          | 0/25 [00:00<?, ?it/s]"
      ]
     },
     "metadata": {},
     "output_type": "display_data"
    },
    {
     "data": {
      "application/vnd.jupyter.widget-view+json": {
       "model_id": "433a639ef26441679488c271a2a18ee7",
       "version_major": 2,
       "version_minor": 0
      },
      "text/plain": [
       "  0%|          | 0/25 [00:00<?, ?it/s]"
      ]
     },
     "metadata": {},
     "output_type": "display_data"
    },
    {
     "data": {
      "application/vnd.jupyter.widget-view+json": {
       "model_id": "4a2070147c6d4abf87ce5f96c75f2a17",
       "version_major": 2,
       "version_minor": 0
      },
      "text/plain": [
       "  0%|          | 0/25 [00:00<?, ?it/s]"
      ]
     },
     "metadata": {},
     "output_type": "display_data"
    },
    {
     "data": {
      "application/vnd.jupyter.widget-view+json": {
       "model_id": "5189c6c93c764754b65a57d21f6514a3",
       "version_major": 2,
       "version_minor": 0
      },
      "text/plain": [
       "  0%|          | 0/25 [00:00<?, ?it/s]"
      ]
     },
     "metadata": {},
     "output_type": "display_data"
    }
   ],
   "source": [
    "image_base, image_ft = generate_images(\"./deliberate_simpsons200\",'Homer Simpson as U.S. president in oval office', 5, True)"
   ]
  },
  {
   "cell_type": "code",
   "execution_count": null,
   "id": "3bc29a5b",
   "metadata": {
    "pycharm": {
     "name": "#%%\n"
    }
   },
   "outputs": [],
   "source": []
  }
 ],
 "metadata": {
  "kernelspec": {
   "display_name": "Python 3 (ipykernel)",
   "language": "python",
   "name": "python3"
  },
  "language_info": {
   "codemirror_mode": {
    "name": "ipython",
    "version": 3
   },
   "file_extension": ".py",
   "mimetype": "text/x-python",
   "name": "python",
   "nbconvert_exporter": "python",
   "pygments_lexer": "ipython3",
   "version": "3.10.4"
  }
 },
 "nbformat": 4,
 "nbformat_minor": 5
}